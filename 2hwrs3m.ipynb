{
 "cells": [
  {
   "cell_type": "code",
   "execution_count": 178,
   "metadata": {},
   "outputs": [],
   "source": [
    "import collections\n",
    "import pandas as pd\n",
    "import matplotlib.pyplot as plt\n",
    "import re"
   ]
  },
  {
   "cell_type": "code",
   "execution_count": 179,
   "metadata": {},
   "outputs": [
    {
     "name": "stdout",
     "output_type": "stream",
     "text": [
      "article0\n",
      "\n",
      " The 10 most common words are as follows\n",
      "\n",
      "self-healing :  10\n",
      "materials :  6\n",
      "ecc :  5\n",
      "cracks :  4\n",
      "concrete :  4\n",
      "crack :  4\n",
      "material :  4\n",
      "from :  4\n",
      "heal :  3\n",
      "wounds :  3\n"
     ]
    },
    {
     "data": {
      "text/plain": [
       "<AxesSubplot:xlabel='Word'>"
      ]
     },
     "execution_count": 179,
     "metadata": {},
     "output_type": "execute_result"
    },
    {
     "data": {
      "image/png": "[encoded data removed]",
      "text/plain": [
       "<Figure size 432x288 with 1 Axes>"
      ]
     },
     "metadata": {
      "needs_background": "light"
     },
     "output_type": "display_data"
    }
   ],
   "source": [
    "print('article0')\n",
    "file = open('article0.csv', encoding=\"utf8\")\n",
    "a= file.read()\n",
    "replwords = ['you','as','and','in','for','i','the','to','a','just','my','this','me','of', \".\", \",\", \":\", \"\\\"\", \"!\", \"*\", 'n.e.c.','is', 'that', 'the', 'which','on', \"â€œ\",'by', 'at', 'which','with','are', \"â€˜\"]\n",
    "wordcount = {}\n",
    "Totalwords = a.lower().split()\n",
    "for word in Totalwords:\n",
    "    if word not in replwords:\n",
    "        if word not in wordcount:\n",
    "            wordcount[word] = 1\n",
    "        else:\n",
    "            wordcount[word] += 1\n",
    "    else:\n",
    "        if word not in wordcount:\n",
    "            wordcount[word] = 0\n",
    "        else:\n",
    "            wordcount[word] += 0\n",
    "n_print = 10\n",
    "print(\"\\n The {} most common words are as follows\\n\".format(n_print))\n",
    "word_counter = collections.Counter(wordcount)\n",
    "for word, count in word_counter.most_common(n_print):\n",
    "    print(word, \": \", count)# Close the file\n",
    "file.close()# Create a data frame of the most common words \n",
    "# Draw a bar chart\n",
    "lst = word_counter.most_common(n_print)\n",
    "df = pd.DataFrame(lst, columns = ['Word', 'Count'])\n",
    "df.plot.bar(x='Word',y='Count')"
   ]
  },
  {
   "cell_type": "code",
   "execution_count": 180,
   "metadata": {},
   "outputs": [
    {
     "name": "stdout",
     "output_type": "stream",
     "text": [
      "article1\n",
      "\n",
      " The 10 most common words are as follows\n",
      "\n",
      "activities :  107\n",
      "other :  78\n",
      "sale :  50\n",
      "equipment :  43\n",
      "products :  34\n",
      "specialised :  30\n",
      "stores :  25\n",
      "transport :  24\n",
      "machinery :  20\n",
      "goods :  19\n"
     ]
    },
    {
     "data": {
      "text/plain": [
       "<AxesSubplot:xlabel='Word'>"
      ]
     },
     "execution_count": 180,
     "metadata": {},
     "output_type": "execute_result"
    },
    {
     "data": {
      "image/png": "[encoded data removed]",
      "text/plain": [
       "<Figure size 432x288 with 1 Axes>"
      ]
     },
     "metadata": {
      "needs_background": "light"
     },
     "output_type": "display_data"
    }
   ],
   "source": [
    "print('article1')\n",
    "file = open('article1.csv', encoding=\"utf8\")\n",
    "a= file.read()\n",
    "replwords = ['you','as','and','in','for','i','the','to','a','just','my','this','me','of', \".\", \",\", \":\", \"\\\"\", \"!\", \"*\", 'n.e.c.','is', 'that', 'the', 'which','on', \"â€œ\",'by', 'at', 'which','with','are', \"â€˜\"]\n",
    "wordcount = {}\n",
    "Totalwords = a.lower().split()\n",
    "for word in Totalwords:\n",
    "    if word not in replwords:\n",
    "        if word not in wordcount:\n",
    "            wordcount[word] = 1\n",
    "        else:\n",
    "            wordcount[word] += 1\n",
    "    else:\n",
    "        if word not in wordcount:\n",
    "            wordcount[word] = 0\n",
    "        else:\n",
    "            wordcount[word] += 0\n",
    "n_print = 10\n",
    "print(\"\\n The {} most common words are as follows\\n\".format(n_print))\n",
    "word_counter = collections.Counter(wordcount)\n",
    "for word, count in word_counter.most_common(n_print):\n",
    "    print(word, \": \", count)# Close the file\n",
    "file.close()# Create a data frame of the most common words \n",
    "# Draw a bar chart\n",
    "lst = word_counter.most_common(n_print)\n",
    "df = pd.DataFrame(lst, columns = ['Word', 'Count'])\n",
    "df.plot.bar(x='Word',y='Count')"
   ]
  },
  {
   "cell_type": "code",
   "execution_count": 181,
   "metadata": {},
   "outputs": [
    {
     "name": "stdout",
     "output_type": "stream",
     "text": [
      "article2\n",
      "\n",
      " The 10 most common words are as follows\n",
      "\n",
      "traffic :  11\n",
      "wind :  8\n",
      "interchanges :  7\n",
      "civil :  7\n",
      "hurricane :  7\n",
      "\"* :  7\n",
      "roofs :  7\n",
      "these :  6\n",
      "practices :  6\n",
      "design :  6\n"
     ]
    },
    {
     "data": {
      "text/plain": [
       "<AxesSubplot:xlabel='Word'>"
      ]
     },
     "execution_count": 181,
     "metadata": {},
     "output_type": "execute_result"
    },
    {
     "data": {
      "image/png": "[encoded data removed]",
      "text/plain": [
       "<Figure size 432x288 with 1 Axes>"
      ]
     },
     "metadata": {
      "needs_background": "light"
     },
     "output_type": "display_data"
    }
   ],
   "source": [
    "print('article2')\n",
    "file = open('article2.csv', encoding=\"utf8\")\n",
    "a= file.read()\n",
    "replwords = ['you','as','and','in','for','i','the','to','a','just','my','this','me','of', \".\", \",\", \":\", \"\\\"\", \"!\", \"*\", 'n.e.c.','is', 'that', 'the', 'which','on', \"â€œ\",'by', 'at', 'which','with','are', \"â€˜\"]\n",
    "wordcount = {}\n",
    "Totalwords = a.lower().split()\n",
    "for word in Totalwords:\n",
    "    if word not in replwords:\n",
    "        if word not in wordcount:\n",
    "            wordcount[word] = 1\n",
    "        else:\n",
    "            wordcount[word] += 1\n",
    "    else:\n",
    "        if word not in wordcount:\n",
    "            wordcount[word] = 0\n",
    "        else:\n",
    "            wordcount[word] += 0\n",
    "n_print = 10\n",
    "print(\"\\n The {} most common words are as follows\\n\".format(n_print))\n",
    "word_counter = collections.Counter(wordcount)\n",
    "for word, count in word_counter.most_common(n_print):\n",
    "    print(word, \": \", count)# Close the file\n",
    "file.close()# Create a data frame of the most common words \n",
    "# Draw a bar chart\n",
    "lst = word_counter.most_common(n_print)\n",
    "df = pd.DataFrame(lst, columns = ['Word', 'Count'])\n",
    "df.plot.bar(x='Word',y='Count')"
   ]
  },
  {
   "cell_type": "code",
   "execution_count": 182,
   "metadata": {},
   "outputs": [
    {
     "name": "stdout",
     "output_type": "stream",
     "text": [
      "article3\n",
      "\n",
      " The 10 most common words are as follows\n",
      "\n",
      "wind :  7\n",
      "it :  7\n",
      "bearing :  5\n",
      "can :  4\n",
      "\"the :  3\n",
      "measure :  3\n",
      "through :  3\n",
      "university :  2\n",
      "sheffield :  2\n",
      "developed :  2\n"
     ]
    },
    {
     "data": {
      "text/plain": [
       "<AxesSubplot:xlabel='Word'>"
      ]
     },
     "execution_count": 182,
     "metadata": {},
     "output_type": "execute_result"
    },
    {
     "data": {
      "image/png": "[encoded data removed]",
      "text/plain": [
       "<Figure size 432x288 with 1 Axes>"
      ]
     },
     "metadata": {
      "needs_background": "light"
     },
     "output_type": "display_data"
    }
   ],
   "source": [
    "print('article3')\n",
    "file = open('article3.csv', encoding=\"utf8\")\n",
    "a= file.read()\n",
    "replwords = ['you','as','and','in','for','i','the','to','a','just','my','this','me','of', \".\", \",\", \":\", \"\\\"\", \"!\", \"*\", 'n.e.c.','is', 'that', 'the', 'which','on', \"â€œ\",'by', 'at', 'which','with','are', \"â€˜\"]\n",
    "wordcount = {}\n",
    "Totalwords = a.lower().split()\n",
    "for word in Totalwords:\n",
    "    if word not in replwords:\n",
    "        if word not in wordcount:\n",
    "            wordcount[word] = 1\n",
    "        else:\n",
    "            wordcount[word] += 1\n",
    "    else:\n",
    "        if word not in wordcount:\n",
    "            wordcount[word] = 0\n",
    "        else:\n",
    "            wordcount[word] += 0\n",
    "n_print = 10\n",
    "print(\"\\n The {} most common words are as follows\\n\".format(n_print))\n",
    "word_counter = collections.Counter(wordcount)\n",
    "for word, count in word_counter.most_common(n_print):\n",
    "    print(word, \": \", count)# Close the file\n",
    "file.close()# Create a data frame of the most common words \n",
    "# Draw a bar chart\n",
    "lst = word_counter.most_common(n_print)\n",
    "df = pd.DataFrame(lst, columns = ['Word', 'Count'])\n",
    "df.plot.bar(x='Word',y='Count')"
   ]
  },
  {
   "cell_type": "code",
   "execution_count": 183,
   "metadata": {},
   "outputs": [
    {
     "name": "stdout",
     "output_type": "stream",
     "text": [
      "article4\n",
      "\n",
      " The 10 most common words are as follows\n",
      "\n",
      "wind :  8\n",
      "more :  5\n",
      "energy :  5\n",
      "structure :  4\n",
      "offshore :  4\n",
      "\"the :  4\n",
      "model :  3\n",
      "floating :  3\n",
      "cost :  3\n",
      "concrete :  3\n"
     ]
    },
    {
     "data": {
      "text/plain": [
       "<AxesSubplot:xlabel='Word'>"
      ]
     },
     "execution_count": 183,
     "metadata": {},
     "output_type": "execute_result"
    },
    {
     "data": {
      "image/png": "[encoded data removed]",
      "text/plain": [
       "<Figure size 432x288 with 1 Axes>"
      ]
     },
     "metadata": {
      "needs_background": "light"
     },
     "output_type": "display_data"
    }
   ],
   "source": [
    "print('article4')\n",
    "file = open('article4.csv', encoding=\"utf8\")\n",
    "a= file.read()\n",
    "replwords = ['you','as','and','in','for','i','the','to','a','just','my','this','me','of', \".\", \",\", \":\", \"\\\"\", \"!\", \"*\", 'n.e.c.','is', 'that', 'the', 'which','on', \"â€œ\",'by', 'at', 'which','with','are', \"â€˜\"]\n",
    "wordcount = {}\n",
    "Totalwords = a.lower().split()\n",
    "for word in Totalwords:\n",
    "    if word not in replwords:\n",
    "        if word not in wordcount:\n",
    "            wordcount[word] = 1\n",
    "        else:\n",
    "            wordcount[word] += 1\n",
    "    else:\n",
    "        if word not in wordcount:\n",
    "            wordcount[word] = 0\n",
    "        else:\n",
    "            wordcount[word] += 0\n",
    "n_print = 10\n",
    "print(\"\\n The {} most common words are as follows\\n\".format(n_print))\n",
    "word_counter = collections.Counter(wordcount)\n",
    "for word, count in word_counter.most_common(n_print):\n",
    "    print(word, \": \", count)# Close the file\n",
    "file.close()# Create a data frame of the most common words \n",
    "# Draw a bar chart\n",
    "lst = word_counter.most_common(n_print)\n",
    "df = pd.DataFrame(lst, columns = ['Word', 'Count'])\n",
    "df.plot.bar(x='Word',y='Count')"
   ]
  },
  {
   "cell_type": "code",
   "execution_count": 184,
   "metadata": {},
   "outputs": [
    {
     "name": "stdout",
     "output_type": "stream",
     "text": [
      "article5\n",
      "\n",
      " The 10 most common words are as follows\n",
      "\n",
      "airflow :  7\n",
      "wind :  5\n",
      "energy :  4\n",
      "\"the :  4\n",
      "use :  4\n",
      "research :  4\n",
      "can :  4\n",
      "using :  3\n",
      "harvesting :  3\n",
      "will :  3\n"
     ]
    },
    {
     "data": {
      "text/plain": [
       "<AxesSubplot:xlabel='Word'>"
      ]
     },
     "execution_count": 184,
     "metadata": {},
     "output_type": "execute_result"
    },
    {
     "data": {
      "image/png": "[encoded data removed]",
      "text/plain": [
       "<Figure size 432x288 with 1 Axes>"
      ]
     },
     "metadata": {
      "needs_background": "light"
     },
     "output_type": "display_data"
    }
   ],
   "source": [
    "print('article5')\n",
    "file = open('article5.csv', encoding=\"utf8\")\n",
    "a= file.read()\n",
    "replwords = ['you','as','and','in','for','i','the','to','a','just','my','this','me','of', \".\", \",\", \":\", \"\\\"\", \"!\", \"*\", 'n.e.c.','is', 'that', 'the', 'which','on', \"â€œ\",'by', 'at', 'which','with','are', \"â€˜\"]\n",
    "wordcount = {}\n",
    "Totalwords = a.lower().split()\n",
    "for word in Totalwords:\n",
    "    if word not in replwords:\n",
    "        if word not in wordcount:\n",
    "            wordcount[word] = 1\n",
    "        else:\n",
    "            wordcount[word] += 1\n",
    "    else:\n",
    "        if word not in wordcount:\n",
    "            wordcount[word] = 0\n",
    "        else:\n",
    "            wordcount[word] += 0\n",
    "n_print = 10\n",
    "print(\"\\n The {} most common words are as follows\\n\".format(n_print))\n",
    "word_counter = collections.Counter(wordcount)\n",
    "for word, count in word_counter.most_common(n_print):\n",
    "    print(word, \": \", count)# Close the file\n",
    "file.close()# Create a data frame of the most common words \n",
    "# Draw a bar chart\n",
    "lst = word_counter.most_common(n_print)\n",
    "df = pd.DataFrame(lst, columns = ['Word', 'Count'])\n",
    "df.plot.bar(x='Word',y='Count')"
   ]
  },
  {
   "cell_type": "code",
   "execution_count": 185,
   "metadata": {},
   "outputs": [
    {
     "name": "stdout",
     "output_type": "stream",
     "text": [
      "article6\n",
      "\n",
      " The 10 most common words are as follows\n",
      "\n",
      "sensors :  12\n",
      "or :  9\n",
      "structural :  8\n",
      "can :  7\n",
      "sandia :  6\n",
      "says.\" :  6\n",
      "other :  5\n",
      "cracks :  5\n",
      "shm :  5\n",
      "fatigue :  5\n"
     ]
    },
    {
     "data": {
      "text/plain": [
       "<AxesSubplot:xlabel='Word'>"
      ]
     },
     "execution_count": 185,
     "metadata": {},
     "output_type": "execute_result"
    },
    {
     "data": {
      "image/png": "[encoded data removed]",
      "text/plain": [
       "<Figure size 432x288 with 1 Axes>"
      ]
     },
     "metadata": {
      "needs_background": "light"
     },
     "output_type": "display_data"
    }
   ],
   "source": [
    "print('article6')\n",
    "file = open('article6.csv', encoding=\"utf8\")\n",
    "a= file.read()\n",
    "replwords = ['you','as','and','in','for','i','the','to','a','just','my','this','me','of', \".\", \",\", \":\", \"\\\"\", \"!\", \"*\", 'n.e.c.','is', 'that', 'the', 'which','on', \"â€œ\",'by', 'at', 'which','with','are', \"â€˜\"]\n",
    "wordcount = {}\n",
    "Totalwords = a.lower().split()\n",
    "for word in Totalwords:\n",
    "    if word not in replwords:\n",
    "        if word not in wordcount:\n",
    "            wordcount[word] = 1\n",
    "        else:\n",
    "            wordcount[word] += 1\n",
    "    else:\n",
    "        if word not in wordcount:\n",
    "            wordcount[word] = 0\n",
    "        else:\n",
    "            wordcount[word] += 0\n",
    "n_print = 10\n",
    "print(\"\\n The {} most common words are as follows\\n\".format(n_print))\n",
    "word_counter = collections.Counter(wordcount)\n",
    "for word, count in word_counter.most_common(n_print):\n",
    "    print(word, \": \", count)# Close the file\n",
    "file.close()# Create a data frame of the most common words \n",
    "# Draw a bar chart\n",
    "lst = word_counter.most_common(n_print)\n",
    "df = pd.DataFrame(lst, columns = ['Word', 'Count'])\n",
    "df.plot.bar(x='Word',y='Count')"
   ]
  },
  {
   "cell_type": "code",
   "execution_count": 186,
   "metadata": {},
   "outputs": [
    {
     "name": "stdout",
     "output_type": "stream",
     "text": [
      "article7\n",
      "\n",
      " The 10 most common words are as follows\n",
      "\n",
      "it :  7\n",
      "queen's :  6\n",
      "flexiarch :  6\n",
      "have :  5\n",
      "been :  5\n",
      "has :  5\n",
      "macrete :  4\n",
      "bridge :  4\n",
      "will :  4\n",
      "years :  4\n"
     ]
    },
    {
     "data": {
      "text/plain": [
       "<AxesSubplot:xlabel='Word'>"
      ]
     },
     "execution_count": 186,
     "metadata": {},
     "output_type": "execute_result"
    },
    {
     "data": {
      "image/png": "[encoded data removed]",
      "text/plain": [
       "<Figure size 432x288 with 1 Axes>"
      ]
     },
     "metadata": {
      "needs_background": "light"
     },
     "output_type": "display_data"
    }
   ],
   "source": [
    "print('article7')\n",
    "file = open('article7.csv', encoding=\"utf8\")\n",
    "a= file.read()\n",
    "replwords = ['you','as','and','in','for','i','the','to','a','just','my','this','me','of', \".\", \",\", \":\", \"\\\"\", \"!\", \"*\", 'n.e.c.','is', 'that', 'the', 'which','on', \"â€œ\",'by', 'at', 'which','with','are', \"â€˜\"]\n",
    "wordcount = {}\n",
    "Totalwords = a.lower().split()\n",
    "for word in Totalwords:\n",
    "    if word not in replwords:\n",
    "        if word not in wordcount:\n",
    "            wordcount[word] = 1\n",
    "        else:\n",
    "            wordcount[word] += 1\n",
    "    else:\n",
    "        if word not in wordcount:\n",
    "            wordcount[word] = 0\n",
    "        else:\n",
    "            wordcount[word] += 0\n",
    "n_print = 10\n",
    "print(\"\\n The {} most common words are as follows\\n\".format(n_print))\n",
    "word_counter = collections.Counter(wordcount)\n",
    "for word, count in word_counter.most_common(n_print):\n",
    "    print(word, \": \", count)# Close the file\n",
    "file.close()# Create a data frame of the most common words \n",
    "# Draw a bar chart\n",
    "lst = word_counter.most_common(n_print)\n",
    "df = pd.DataFrame(lst, columns = ['Word', 'Count'])\n",
    "df.plot.bar(x='Word',y='Count')"
   ]
  }
 ],
 "metadata": {
  "interpreter": {
   "hash": "957f31c734eec3e01b2fe6fa243e58ca79877e0dc686da26af3d1f22624ca6c0"
  },
  "kernelspec": {
   "display_name": "Python 3.9.5 64-bit",
   "language": "python",
   "name": "python3"
  },
  "language_info": {
   "codemirror_mode": {
    "name": "ipython",
    "version": 3
   },
   "file_extension": ".py",
   "mimetype": "text/x-python",
   "name": "python",
   "nbconvert_exporter": "python",
   "pygments_lexer": "ipython3",
   "version": "3.9.5"
  },
  "orig_nbformat": 4
 },
 "nbformat": 4,
 "nbformat_minor": 2
}
